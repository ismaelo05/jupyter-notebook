{
 "cells": [
  {
   "cell_type": "code",
   "execution_count": 1,
   "id": "d2310824",
   "metadata": {},
   "outputs": [
    {
     "name": "stdout",
     "output_type": "stream",
     "text": [
      "<class 'pandas.core.frame.DataFrame'>\n",
      "RangeIndex: 219 entries, 0 to 218\n",
      "Data columns (total 9 columns):\n",
      " #   Column                  Non-Null Count  Dtype\n",
      "---  ------                  --------------  -----\n",
      " 0   Age                     219 non-null    int64\n",
      " 1   Perseverance            219 non-null    int64\n",
      " 2   DesireToTakeInitiative  219 non-null    int64\n",
      " 3   Competitiveness         219 non-null    int64\n",
      " 4   SelfReliance            219 non-null    int64\n",
      " 5   StrongNeedToAchieve     219 non-null    int64\n",
      " 6   SelfConfidence          219 non-null    int64\n",
      " 7   GoodPhysicalHealth      219 non-null    int64\n",
      " 8   y                       219 non-null    int64\n",
      "dtypes: int64(9)\n",
      "memory usage: 15.5 KB\n"
     ]
    }
   ],
   "source": [
    "import numpy as np\n",
    "import pandas as pd\n",
    "import seaborn as sns\n",
    "import matplotlib.pyplot as plt\n",
    "%matplotlib inline\n",
    "import numpy as np\n",
    "from sklearn.tree import DecisionTreeClassifier\n",
    "from sklearn.metrics import mean_squared_error as MSE\n",
    "from sklearn.model_selection import train_test_split, cross_val_score\n",
    "from sklearn import tree\n",
    "from sklearn import metrics\n",
    "from sklearn.tree import export_graphviz\n",
    "from sklearn.model_selection import GridSearchCV, RandomizedSearchCV\n",
    "from scipy.stats import randint\n",
    "# Load the data \n",
    "df = pd.read_csv(\"data.csv\")\n",
    "mycolumn = ['Age','Perseverance','DesireToTakeInitiative','Competitiveness','SelfReliance','StrongNeedToAchieve','SelfConfidence','GoodPhysicalHealth','y']\n",
    "donne1 = df[mycolumn]\n",
    "donne1.head()\n",
    "donne1.info()"
   ]
  },
  {
   "cell_type": "code",
   "execution_count": 2,
   "id": "1789abf2",
   "metadata": {},
   "outputs": [
    {
     "data": {
      "text/plain": [
       "(219, 9)"
      ]
     },
     "execution_count": 2,
     "metadata": {},
     "output_type": "execute_result"
    }
   ],
   "source": [
    "donne1.shape"
   ]
  },
  {
   "cell_type": "code",
   "execution_count": 3,
   "id": "2ee3d87b",
   "metadata": {},
   "outputs": [],
   "source": [
    "\n",
    "X = donne1.drop('y',axis=1)\n",
    "y = donne1[['y']]"
   ]
  },
  {
   "cell_type": "code",
   "execution_count": 36,
   "id": "4986861a",
   "metadata": {},
   "outputs": [
    {
     "name": "stdout",
     "output_type": "stream",
     "text": [
      "     Age  Perseverance  DesireToTakeInitiative  Competitiveness  SelfReliance  \\\n",
      "154   18             2                       1                3             1   \n",
      "93    20             4                       5                5             4   \n",
      "216   22             3                       4                4             3   \n",
      "217   19             1                       2                2             3   \n",
      "15    18             3                       4                3             3   \n",
      "104   20             5                       4                5             5   \n",
      "171   18             3                       3                4             4   \n",
      "208   20             4                       5                4             4   \n",
      "75    21             4                       4                5             4   \n",
      "141   20             3                       4                3             5   \n",
      "97    21             4                       4                4             4   \n",
      "30    17             3                       5                2             4   \n",
      "189   18             4                       5                3             2   \n",
      "9     17             2                       3                2             1   \n",
      "67    20             4                       4                3             4   \n",
      "178   19             2                       2                1             2   \n",
      "182   19             4                       3                3             4   \n",
      "18    19             4                       4                4             5   \n",
      "156   19             4                       5                5             5   \n",
      "66    20             3                       4                4             3   \n",
      "212   20             4                       5                5             4   \n",
      "95    20             3                       3                3             4   \n",
      "120   20             4                       4                3             4   \n",
      "25    18             3                       4                3             4   \n",
      "214   19             4                       5                4             3   \n",
      "148   20             4                       4                4             4   \n",
      "165   18             5                       5                5             5   \n",
      "16    20             3                       2                3             2   \n",
      "45    21             4                       4                5             5   \n",
      "153   17             3                       2                1             3   \n",
      "139   20             2                       2                3             2   \n",
      "55    20             3                       4                4             5   \n",
      "126   21             3                       5                5             4   \n",
      "\n",
      "     StrongNeedToAchieve  SelfConfidence  GoodPhysicalHealth  \n",
      "154                    2               3                   4  \n",
      "93                     4               5                   4  \n",
      "216                    4               4                   3  \n",
      "217                    3               2                   2  \n",
      "15                     4               4                   5  \n",
      "104                    5               5                   3  \n",
      "171                    4               3                   4  \n",
      "208                    5               5                   5  \n",
      "75                     3               3                   3  \n",
      "141                    5               5                   5  \n",
      "97                     4               4                   4  \n",
      "30                     5               3                   5  \n",
      "189                    3               1                   1  \n",
      "9                      4               3                   3  \n",
      "67                     4               3                   5  \n",
      "178                    2               2                   3  \n",
      "182                    4               3                   3  \n",
      "18                     5               3                   4  \n",
      "156                    5               4                   4  \n",
      "66                     4               3                   5  \n",
      "212                    4               5                   5  \n",
      "95                     4               3                   4  \n",
      "120                    5               4                   3  \n",
      "25                     5               4                   4  \n",
      "214                    4               4                   5  \n",
      "148                    5               5                   5  \n",
      "165                    5               5                   5  \n",
      "16                     3               2                   2  \n",
      "45                     4               4                   3  \n",
      "153                    3               2                   3  \n",
      "139                    3               3                   2  \n",
      "55                     4               3                   4  \n",
      "126                    5               5                   4  \n",
      "     Age  Perseverance  DesireToTakeInitiative  Competitiveness  SelfReliance  \\\n",
      "195   19             5                       5                5             5   \n",
      "73    21             2                       2                2             3   \n",
      "108   19             4                       3                5             4   \n",
      "82    19             3                       5                4             5   \n",
      "137   19             5                       5                5             5   \n",
      "..   ...           ...                     ...              ...           ...   \n",
      "106   20             5                       4                4             4   \n",
      "14    20             2                       1                2             3   \n",
      "92    22             2                       5                5             3   \n",
      "179   18             3                       3                2             2   \n",
      "102   19             4                       3                3             4   \n",
      "\n",
      "     StrongNeedToAchieve  SelfConfidence  GoodPhysicalHealth  \n",
      "195                    5               5                   5  \n",
      "73                     2               2                   2  \n",
      "108                    5               4                   3  \n",
      "82                     5               5                   5  \n",
      "137                    5               5                   5  \n",
      "..                   ...             ...                 ...  \n",
      "106                    4               5                   3  \n",
      "14                     3               2                   3  \n",
      "92                     4               4                   5  \n",
      "179                    3               3                   2  \n",
      "102                    5               5                   5  \n",
      "\n",
      "[186 rows x 8 columns]\n",
      "     y\n",
      "154  0\n",
      "93   1\n",
      "216  1\n",
      "217  0\n",
      "15   1\n",
      "104  0\n",
      "171  0\n",
      "208  1\n",
      "75   0\n",
      "141  0\n",
      "97   0\n",
      "30   1\n",
      "189  0\n",
      "9    1\n",
      "67   0\n",
      "178  1\n",
      "182  1\n",
      "18   1\n",
      "156  0\n",
      "66   1\n",
      "212  1\n",
      "95   0\n",
      "120  0\n",
      "25   0\n",
      "214  1\n",
      "148  0\n",
      "165  1\n",
      "16   0\n",
      "45   1\n",
      "153  0\n",
      "139  0\n",
      "55   0\n",
      "126  0\n",
      "     y\n",
      "195  1\n",
      "73   0\n",
      "108  1\n",
      "82   0\n",
      "137  1\n",
      "..  ..\n",
      "106  0\n",
      "14   1\n",
      "92   0\n",
      "179  1\n",
      "102  1\n",
      "\n",
      "[186 rows x 1 columns]\n"
     ]
    },
    {
     "data": {
      "text/plain": [
       "(33, 8)"
      ]
     },
     "execution_count": 36,
     "metadata": {},
     "output_type": "execute_result"
    }
   ],
   "source": [
    "clf = DecisionTreeClassifier()\n",
    "X_train, X_test, y_train, y_test = train_test_split(X, y, test_size = 0.15, random_state=42)\n",
    "clf.fit(X_train, y_train)\n",
    "print(X_test)\n",
    "print(X_train)\n",
    "print(y_test)\n",
    "print(y_train)\n",
    "X_train.shape\n",
    "X_test.shape"
   ]
  },
  {
   "cell_type": "code",
   "execution_count": 37,
   "id": "59f99db0",
   "metadata": {},
   "outputs": [
    {
     "name": "stdout",
     "output_type": "stream",
     "text": [
      "     Age  Perseverance  DesireToTakeInitiative  Competitiveness  SelfReliance  \\\n",
      "42    26             2                       3                2             3   \n",
      "69    19             2                       2                3             3   \n",
      "40    18             3                       4                2             3   \n",
      "109   20             5                       5                5             5   \n",
      "108   19             4                       3                5             4   \n",
      "17    21             4                       3                4             4   \n",
      "51    20             5                       5                5             4   \n",
      "8     20             2                       3                3             1   \n",
      "218   18             3                       5                3             5   \n",
      "199   19             3                       3                3             3   \n",
      "194   20             4                       4                4             5   \n",
      "4     19             2                       3                3             3   \n",
      "128   20             4                       5                4             4   \n",
      "68    24             4                       5                5             4   \n",
      "185   19             3                       4                3             4   \n",
      "110   20             5                       4                4             5   \n",
      "204   20             2                       3                3             2   \n",
      "155   20             2                       2                2             2   \n",
      "96    18             4                       5                5             4   \n",
      "76    20             5                       4                4             4   \n",
      "177   19             4                       5                5             5   \n",
      "20    19             1                       3                2             3   \n",
      "147   19             3                       1                3             4   \n",
      "52    19             3                       2                2             2   \n",
      "35    21             4                       4                3             4   \n",
      "21    21             4                       5                4             4   \n",
      "89    20             4                       5                4             5   \n",
      "103   20             3                       3                5             3   \n",
      "14    20             2                       1                2             3   \n",
      "22    19             2                       3                3             2   \n",
      "138   20             3                       4                4             4   \n",
      "203   20             3                       4                3             4   \n",
      "29    18             4                       4                4             5   \n",
      "129   19             3                       3                3             3   \n",
      "119   20             2                       3                3             2   \n",
      "106   20             5                       4                4             4   \n",
      "72    20             4                       4                3             4   \n",
      "188   20             4                       4                4             4   \n",
      "\n",
      "     StrongNeedToAchieve  SelfConfidence  GoodPhysicalHealth  \n",
      "42                     3               2                   3  \n",
      "69                     3               1                   2  \n",
      "40                     3               4                   4  \n",
      "109                    4               5                   4  \n",
      "108                    5               4                   3  \n",
      "17                     4               4                   4  \n",
      "51                     5               4                   4  \n",
      "8                      2               2                   2  \n",
      "218                    5               5                   2  \n",
      "199                    3               3                   3  \n",
      "194                    4               4                   4  \n",
      "4                      4               3                   2  \n",
      "128                    4               5                   4  \n",
      "68                     4               4                   5  \n",
      "185                    5               4                   4  \n",
      "110                    5               4                   5  \n",
      "204                    3               2                   2  \n",
      "155                    2               1                   3  \n",
      "96                     5               4                   4  \n",
      "76                     5               4                   5  \n",
      "177                    5               5                   5  \n",
      "20                     3               2                   3  \n",
      "147                    3               3                   5  \n",
      "52                     3               1                   2  \n",
      "35                     4               3                   5  \n",
      "21                     5               4                   4  \n",
      "89                     5               3                   4  \n",
      "103                    5               4                   2  \n",
      "14                     3               2                   3  \n",
      "22                     3               2                   3  \n",
      "138                    3               3                   4  \n",
      "203                    3               4                   3  \n",
      "29                     5               4                   3  \n",
      "129                    3               3                   3  \n",
      "119                    3               2                   2  \n",
      "106                    4               5                   3  \n",
      "72                     5               3                   3  \n",
      "188                    4               4                   2  \n",
      "     y\n",
      "42   1\n",
      "69   0\n",
      "40   1\n",
      "109  0\n",
      "108  1\n",
      "17   0\n",
      "51   1\n",
      "8    0\n",
      "218  1\n",
      "199  0\n",
      "194  1\n",
      "4    1\n",
      "128  0\n",
      "68   1\n",
      "185  1\n",
      "110  0\n",
      "204  0\n",
      "155  1\n",
      "96   0\n",
      "76   1\n",
      "177  1\n",
      "20   0\n",
      "147  0\n",
      "52   0\n",
      "35   0\n",
      "21   0\n",
      "89   0\n",
      "103  0\n",
      "14   1\n",
      "22   1\n",
      "138  0\n",
      "203  1\n",
      "29   1\n",
      "129  0\n",
      "119  0\n",
      "106  0\n",
      "72   0\n",
      "188  0\n"
     ]
    },
    {
     "data": {
      "text/plain": [
       "(38, 8)"
      ]
     },
     "execution_count": 37,
     "metadata": {},
     "output_type": "execute_result"
    }
   ],
   "source": [
    "X_train, X_valid, y_train, y_valid = train_test_split(X_train, y_train, test_size=0.20)\n",
    "print(X_valid)\n",
    "print(y_valid)\n",
    "X_valid.shape"
   ]
  },
  {
   "cell_type": "code",
   "execution_count": 38,
   "id": "934ed3f6",
   "metadata": {},
   "outputs": [
    {
     "data": {
      "text/plain": [
       "array([0.36842105, 0.52631579, 0.42105263, 0.42105263, 0.66666667,\n",
       "       0.55555556, 0.33333333, 0.44444444])"
      ]
     },
     "execution_count": 38,
     "metadata": {},
     "output_type": "execute_result"
    }
   ],
   "source": [
    "cross_val_score(clf, X_train, y_train, cv=8)"
   ]
  },
  {
   "cell_type": "code",
   "execution_count": 40,
   "id": "ee24df02",
   "metadata": {
    "scrolled": false
   },
   "outputs": [
    {
     "name": "stdout",
     "output_type": "stream",
     "text": [
      "0.5526315789473685\n"
     ]
    }
   ],
   "source": [
    "clf.fit(X_train, y_train)\n",
    "print(metrics.accuracy_score(y_valid, clf.predict(X_valid)))"
   ]
  },
  {
   "cell_type": "code",
   "execution_count": 41,
   "id": "bd881653",
   "metadata": {},
   "outputs": [
    {
     "data": {
      "text/plain": [
       "array([0.26666593, 0.10789634, 0.10283624, 0.10747619, 0.12607845,\n",
       "       0.03173776, 0.16036593, 0.09694316])"
      ]
     },
     "execution_count": 41,
     "metadata": {},
     "output_type": "execute_result"
    }
   ],
   "source": [
    "clf.feature_importances_"
   ]
  },
  {
   "cell_type": "code",
   "execution_count": 42,
   "id": "8a8151e8",
   "metadata": {},
   "outputs": [
    {
     "data": {
      "text/plain": [
       "[('Age', 0.26666593390602983),\n",
       " ('SelfConfidence', 0.16036592954694223),\n",
       " ('SelfReliance', 0.12607845041925667),\n",
       " ('Perseverance', 0.10789633940749414),\n",
       " ('Competitiveness', 0.10747619047619048),\n",
       " ('DesireToTakeInitiative', 0.10283623635780827),\n",
       " ('GoodPhysicalHealth', 0.09694315537335858),\n",
       " ('StrongNeedToAchieve', 0.03173776451291974)]"
      ]
     },
     "execution_count": 42,
     "metadata": {},
     "output_type": "execute_result"
    }
   ],
   "source": [
    "def sortSecond(val):\n",
    "\treturn val[1]\n",
    "values = clf.feature_importances_\n",
    "features = list(X)\n",
    "importances = [(features[i], values[i]) for i in range(len(features))]\n",
    "importances.sort(reverse=True, key=sortSecond)\n",
    "importances"
   ]
  },
  {
   "cell_type": "code",
   "execution_count": 46,
   "id": "2bd98a9a",
   "metadata": {},
   "outputs": [
    {
     "name": "stdout",
     "output_type": "stream",
     "text": [
      "0.5263157894736842\n"
     ]
    }
   ],
   "source": [
    "X_train = X_train[[col[0] for col in importances[:8]]]\n",
    "X_valid = X_valid[[col[0] for col in importances[:8]]]\n",
    "cut_clf = DecisionTreeClassifier()\n",
    "cut_clf.fit(X_train, y_train)\n",
    "print(metrics.accuracy_score(y_valid, cut_clf.predict(X_valid)))"
   ]
  },
  {
   "cell_type": "code",
   "execution_count": 44,
   "id": "4a292770",
   "metadata": {},
   "outputs": [
    {
     "name": "stdout",
     "output_type": "stream",
     "text": [
      "0.5526315789473685\n"
     ]
    }
   ],
   "source": []
  },
  {
   "cell_type": "code",
   "execution_count": 45,
   "id": "e670698a",
   "metadata": {},
   "outputs": [
    {
     "data": {
      "text/plain": [
       "DecisionTreeClassifier(max_depth=22, max_leaf_nodes=19849, min_samples_leaf=75,\n",
       "                       min_samples_split=122, random_state=42)"
      ]
     },
     "execution_count": 45,
     "metadata": {},
     "output_type": "execute_result"
    }
   ],
   "source": [
    "params_dist = {\n",
    "\t'criterion': ['gini', 'entropy'],\n",
    "\t'max_depth': randint(low=4, high=40),\n",
    "\t'max_leaf_nodes': randint(low=1000, high=20000),\n",
    "\t'min_samples_leaf': randint(low=20, high=100),\n",
    "\t'min_samples_split': randint(low=40, high=200)\n",
    "}\n",
    "clf_tuned = DecisionTreeClassifier(random_state=42)\n",
    "random_search = RandomizedSearchCV(clf_tuned, params_dist, cv=7)\n",
    "random_search.fit(X_train, y_train)\n",
    "random_search.best_estimator_"
   ]
  },
  {
   "cell_type": "code",
   "execution_count": 13,
   "id": "40ea1b18",
   "metadata": {},
   "outputs": [
    {
     "ename": "NameError",
     "evalue": "name 'best' is not defined",
     "output_type": "error",
     "traceback": [
      "\u001b[0;31m---------------------------------------------------------------------------\u001b[0m",
      "\u001b[0;31mNameError\u001b[0m                                 Traceback (most recent call last)",
      "\u001b[0;32m<ipython-input-13-774f3a23f2e7>\u001b[0m in \u001b[0;36m<module>\u001b[0;34m\u001b[0m\n\u001b[1;32m      1\u001b[0m \u001b[0mbest_tuned_clf\u001b[0m \u001b[0;34m=\u001b[0m \u001b[0mrandom_search\u001b[0m\u001b[0;34m.\u001b[0m\u001b[0mbest_estimator_\u001b[0m\u001b[0;34m\u001b[0m\u001b[0;34m\u001b[0m\u001b[0m\n\u001b[0;32m----> 2\u001b[0;31m \u001b[0mprint\u001b[0m\u001b[0;34m(\u001b[0m\u001b[0mmetrics\u001b[0m\u001b[0;34m.\u001b[0m\u001b[0maccuracy_score\u001b[0m\u001b[0;34m(\u001b[0m\u001b[0my_valid\u001b[0m\u001b[0;34m,\u001b[0m \u001b[0mbest\u001b[0m\u001b[0;34m.\u001b[0m\u001b[0mpredict\u001b[0m\u001b[0;34m(\u001b[0m\u001b[0mX_valid\u001b[0m\u001b[0;34m)\u001b[0m\u001b[0;34m)\u001b[0m\u001b[0;34m)\u001b[0m\u001b[0;34m\u001b[0m\u001b[0;34m\u001b[0m\u001b[0m\n\u001b[0m",
      "\u001b[0;31mNameError\u001b[0m: name 'best' is not defined"
     ]
    }
   ],
   "source": [
    "best_tuned_clf = random_search.best_estimator_\n",
    "print(metrics.accuracy_score(y_valid, best.predict(X_valid)))"
   ]
  },
  {
   "cell_type": "code",
   "execution_count": 47,
   "id": "d5a98808",
   "metadata": {},
   "outputs": [
    {
     "name": "stdout",
     "output_type": "stream",
     "text": [
      "              precision    recall  f1-score   support\n",
      "\n",
      "           0       0.57      0.63      0.60        19\n",
      "           1       0.42      0.36      0.38        14\n",
      "\n",
      "    accuracy                           0.52        33\n",
      "   macro avg       0.49      0.49      0.49        33\n",
      "weighted avg       0.51      0.52      0.51        33\n",
      "\n",
      "              precision    recall  f1-score   support\n",
      "\n",
      "           0       0.58      0.79      0.67        19\n",
      "           1       0.43      0.21      0.29        14\n",
      "\n",
      "    accuracy                           0.55        33\n",
      "   macro avg       0.50      0.50      0.48        33\n",
      "weighted avg       0.51      0.55      0.51        33\n",
      "\n"
     ]
    }
   ],
   "source": [
    "print(metrics.classification_report(y_test, cut_clf.predict(X_test[[col[0] for col in importances[:8]]])))\n",
    "print(metrics.classification_report(y_test, best_tuned_clf.predict(X_test[[col[0] for col in importances[:8]]])))"
   ]
  },
  {
   "cell_type": "code",
   "execution_count": 48,
   "id": "21bfe98b",
   "metadata": {},
   "outputs": [
    {
     "name": "stdout",
     "output_type": "stream",
     "text": [
      "|--- Age <= 18.50\n",
      "|   |--- Perseverance <= 2.50\n",
      "|   |   |--- class: 1\n",
      "|   |--- Perseverance >  2.50\n",
      "|   |   |--- class: 0\n",
      "|--- Age >  18.50\n",
      "|   |--- StrongNeedToAchieve <= 4.50\n",
      "|   |   |--- GoodPhysicalHealth <= 1.50\n",
      "|   |   |   |--- Age <= 20.50\n",
      "|   |   |   |   |--- class: 1\n",
      "|   |   |   |--- Age >  20.50\n",
      "|   |   |   |   |--- class: 0\n",
      "|   |   |--- GoodPhysicalHealth >  1.50\n",
      "|   |   |   |--- Competitiveness <= 2.50\n",
      "|   |   |   |   |--- Age <= 19.50\n",
      "|   |   |   |   |   |--- GoodPhysicalHealth <= 2.50\n",
      "|   |   |   |   |   |   |--- DesireToTakeInitiative <= 1.50\n",
      "|   |   |   |   |   |   |   |--- class: 0\n",
      "|   |   |   |   |   |   |--- DesireToTakeInitiative >  1.50\n",
      "|   |   |   |   |   |   |   |--- class: 0\n",
      "|   |   |   |   |   |--- GoodPhysicalHealth >  2.50\n",
      "|   |   |   |   |   |   |--- class: 0\n",
      "|   |   |   |   |--- Age >  19.50\n",
      "|   |   |   |   |   |--- class: 0\n",
      "|   |   |   |--- Competitiveness >  2.50\n",
      "|   |   |   |   |--- SelfConfidence <= 2.50\n",
      "|   |   |   |   |   |--- Age <= 20.50\n",
      "|   |   |   |   |   |   |--- GoodPhysicalHealth <= 2.50\n",
      "|   |   |   |   |   |   |   |--- StrongNeedToAchieve <= 2.00\n",
      "|   |   |   |   |   |   |   |   |--- class: 1\n",
      "|   |   |   |   |   |   |   |--- StrongNeedToAchieve >  2.00\n",
      "|   |   |   |   |   |   |   |   |--- class: 0\n",
      "|   |   |   |   |   |   |--- GoodPhysicalHealth >  2.50\n",
      "|   |   |   |   |   |   |   |--- class: 1\n",
      "|   |   |   |   |   |--- Age >  20.50\n",
      "|   |   |   |   |   |   |--- Perseverance <= 2.50\n",
      "|   |   |   |   |   |   |   |--- class: 0\n",
      "|   |   |   |   |   |   |--- Perseverance >  2.50\n",
      "|   |   |   |   |   |   |   |--- SelfReliance <= 2.50\n",
      "|   |   |   |   |   |   |   |   |--- StrongNeedToAchieve <= 2.50\n",
      "|   |   |   |   |   |   |   |   |   |--- class: 1\n",
      "|   |   |   |   |   |   |   |   |--- StrongNeedToAchieve >  2.50\n",
      "|   |   |   |   |   |   |   |   |   |--- class: 0\n",
      "|   |   |   |   |   |   |   |--- SelfReliance >  2.50\n",
      "|   |   |   |   |   |   |   |   |--- class: 1\n",
      "|   |   |   |   |--- SelfConfidence >  2.50\n",
      "|   |   |   |   |   |--- SelfReliance <= 2.50\n",
      "|   |   |   |   |   |   |--- class: 0\n",
      "|   |   |   |   |   |--- SelfReliance >  2.50\n",
      "|   |   |   |   |   |   |--- DesireToTakeInitiative <= 3.50\n",
      "|   |   |   |   |   |   |   |--- GoodPhysicalHealth <= 3.50\n",
      "|   |   |   |   |   |   |   |   |--- Age <= 21.50\n",
      "|   |   |   |   |   |   |   |   |   |--- Competitiveness <= 3.50\n",
      "|   |   |   |   |   |   |   |   |   |   |--- Age <= 20.00\n",
      "|   |   |   |   |   |   |   |   |   |   |   |--- class: 0\n",
      "|   |   |   |   |   |   |   |   |   |   |--- Age >  20.00\n",
      "|   |   |   |   |   |   |   |   |   |   |   |--- class: 1\n",
      "|   |   |   |   |   |   |   |   |   |--- Competitiveness >  3.50\n",
      "|   |   |   |   |   |   |   |   |   |   |--- class: 0\n",
      "|   |   |   |   |   |   |   |   |--- Age >  21.50\n",
      "|   |   |   |   |   |   |   |   |   |--- class: 0\n",
      "|   |   |   |   |   |   |   |--- GoodPhysicalHealth >  3.50\n",
      "|   |   |   |   |   |   |   |   |--- class: 0\n",
      "|   |   |   |   |   |   |--- DesireToTakeInitiative >  3.50\n",
      "|   |   |   |   |   |   |   |--- DesireToTakeInitiative <= 4.50\n",
      "|   |   |   |   |   |   |   |   |--- SelfConfidence <= 4.50\n",
      "|   |   |   |   |   |   |   |   |   |--- Age <= 21.50\n",
      "|   |   |   |   |   |   |   |   |   |   |--- Competitiveness <= 3.50\n",
      "|   |   |   |   |   |   |   |   |   |   |   |--- truncated branch of depth 2\n",
      "|   |   |   |   |   |   |   |   |   |   |--- Competitiveness >  3.50\n",
      "|   |   |   |   |   |   |   |   |   |   |   |--- truncated branch of depth 8\n",
      "|   |   |   |   |   |   |   |   |   |--- Age >  21.50\n",
      "|   |   |   |   |   |   |   |   |   |   |--- class: 0\n",
      "|   |   |   |   |   |   |   |   |--- SelfConfidence >  4.50\n",
      "|   |   |   |   |   |   |   |   |   |--- class: 0\n",
      "|   |   |   |   |   |   |   |--- DesireToTakeInitiative >  4.50\n",
      "|   |   |   |   |   |   |   |   |--- SelfConfidence <= 4.50\n",
      "|   |   |   |   |   |   |   |   |   |--- Competitiveness <= 4.50\n",
      "|   |   |   |   |   |   |   |   |   |   |--- GoodPhysicalHealth <= 4.50\n",
      "|   |   |   |   |   |   |   |   |   |   |   |--- truncated branch of depth 6\n",
      "|   |   |   |   |   |   |   |   |   |   |--- GoodPhysicalHealth >  4.50\n",
      "|   |   |   |   |   |   |   |   |   |   |   |--- truncated branch of depth 4\n",
      "|   |   |   |   |   |   |   |   |   |--- Competitiveness >  4.50\n",
      "|   |   |   |   |   |   |   |   |   |   |--- class: 0\n",
      "|   |   |   |   |   |   |   |   |--- SelfConfidence >  4.50\n",
      "|   |   |   |   |   |   |   |   |   |--- Age <= 19.50\n",
      "|   |   |   |   |   |   |   |   |   |   |--- class: 1\n",
      "|   |   |   |   |   |   |   |   |   |--- Age >  19.50\n",
      "|   |   |   |   |   |   |   |   |   |   |--- Age <= 21.50\n",
      "|   |   |   |   |   |   |   |   |   |   |   |--- class: 0\n",
      "|   |   |   |   |   |   |   |   |   |   |--- Age >  21.50\n",
      "|   |   |   |   |   |   |   |   |   |   |   |--- class: 1\n",
      "|   |--- StrongNeedToAchieve >  4.50\n",
      "|   |   |--- Competitiveness <= 3.50\n",
      "|   |   |   |--- Age <= 20.50\n",
      "|   |   |   |   |--- class: 1\n",
      "|   |   |   |--- Age >  20.50\n",
      "|   |   |   |   |--- class: 0\n",
      "|   |   |--- Competitiveness >  3.50\n",
      "|   |   |   |--- SelfReliance <= 4.50\n",
      "|   |   |   |   |--- Age <= 21.50\n",
      "|   |   |   |   |   |--- SelfConfidence <= 3.50\n",
      "|   |   |   |   |   |   |--- Age <= 19.50\n",
      "|   |   |   |   |   |   |   |--- SelfReliance <= 3.50\n",
      "|   |   |   |   |   |   |   |   |--- class: 1\n",
      "|   |   |   |   |   |   |   |--- SelfReliance >  3.50\n",
      "|   |   |   |   |   |   |   |   |--- class: 0\n",
      "|   |   |   |   |   |   |--- Age >  19.50\n",
      "|   |   |   |   |   |   |   |--- class: 1\n",
      "|   |   |   |   |   |--- SelfConfidence >  3.50\n",
      "|   |   |   |   |   |   |--- class: 1\n",
      "|   |   |   |   |--- Age >  21.50\n",
      "|   |   |   |   |   |--- class: 0\n",
      "|   |   |   |--- SelfReliance >  4.50\n",
      "|   |   |   |   |--- Perseverance <= 4.50\n",
      "|   |   |   |   |   |--- class: 0\n",
      "|   |   |   |   |--- Perseverance >  4.50\n",
      "|   |   |   |   |   |--- Age <= 20.50\n",
      "|   |   |   |   |   |   |--- Age <= 19.50\n",
      "|   |   |   |   |   |   |   |--- SelfConfidence <= 4.50\n",
      "|   |   |   |   |   |   |   |   |--- Competitiveness <= 4.50\n",
      "|   |   |   |   |   |   |   |   |   |--- class: 1\n",
      "|   |   |   |   |   |   |   |   |--- Competitiveness >  4.50\n",
      "|   |   |   |   |   |   |   |   |   |--- GoodPhysicalHealth <= 4.50\n",
      "|   |   |   |   |   |   |   |   |   |   |--- class: 0\n",
      "|   |   |   |   |   |   |   |   |   |--- GoodPhysicalHealth >  4.50\n",
      "|   |   |   |   |   |   |   |   |   |   |--- class: 0\n",
      "|   |   |   |   |   |   |   |--- SelfConfidence >  4.50\n",
      "|   |   |   |   |   |   |   |   |--- class: 1\n",
      "|   |   |   |   |   |   |--- Age >  19.50\n",
      "|   |   |   |   |   |   |   |--- GoodPhysicalHealth <= 4.50\n",
      "|   |   |   |   |   |   |   |   |--- class: 1\n",
      "|   |   |   |   |   |   |   |--- GoodPhysicalHealth >  4.50\n",
      "|   |   |   |   |   |   |   |   |--- class: 0\n",
      "|   |   |   |   |   |--- Age >  20.50\n",
      "|   |   |   |   |   |   |--- class: 1\n",
      "\n"
     ]
    }
   ],
   "source": [
    "from sklearn.tree import export_text\n",
    "print(export_text(clf, feature_names=list(X_train)))"
   ]
  },
  {
   "cell_type": "code",
   "execution_count": 49,
   "id": "b978097a",
   "metadata": {},
   "outputs": [
    {
     "data": {
      "image/png": "[encoded data removed]",
      "text/plain": [
       "<Figure size 1080x720 with 1 Axes>"
      ]
     },
     "metadata": {
      "needs_background": "light"
     },
     "output_type": "display_data"
    }
   ],
   "source": [
    "fig = plt.figure(figsize=(15,10))\n",
    "_ = tree.plot_tree(clf, feature_names=list(X_train), filled=True)"
   ]
  },
  {
   "cell_type": "code",
   "execution_count": 50,
   "id": "6fe9b508",
   "metadata": {},
   "outputs": [
    {
     "data": {
      "text/plain": [
       "'forest1.jpg'"
      ]
     },
     "execution_count": 50,
     "metadata": {},
     "output_type": "execute_result"
    }
   ],
   "source": [
    "import graphviz\n",
    "# DOT data\n",
    "dot_data = tree.export_graphviz(clf, out_file=None, \n",
    "                                feature_names=list(X_train),  \n",
    "                                #class_names=target,\n",
    "                                filled=True)\n",
    "\n",
    "# Draw graph\n",
    "graph = graphviz.Source(dot_data, format=\"jpg\") \n",
    "graph\n",
    "graph.render(\"forest1\")"
   ]
  },
  {
   "cell_type": "code",
   "execution_count": 18,
   "id": "c0aa21fe",
   "metadata": {},
   "outputs": [
    {
     "name": "stdout",
     "output_type": "stream",
     "text": [
      "|--- GoodPhysicalHealth <= 4.50\n",
      "|   |--- Age <= 22.50\n",
      "|   |   |--- Age <= 21.50\n",
      "|   |   |   |--- SelfReliance <= 2.50\n",
      "|   |   |   |   |--- SelfConfidence <= 1.50\n",
      "|   |   |   |   |   |--- StrongNeedToAchieve <= 1.50\n",
      "|   |   |   |   |   |   |--- class: 1\n",
      "|   |   |   |   |   |--- StrongNeedToAchieve >  1.50\n",
      "|   |   |   |   |   |   |--- GoodPhysicalHealth <= 2.50\n",
      "|   |   |   |   |   |   |   |--- class: 0\n",
      "|   |   |   |   |   |   |--- GoodPhysicalHealth >  2.50\n",
      "|   |   |   |   |   |   |   |--- class: 1\n",
      "|   |   |   |   |--- SelfConfidence >  1.50\n",
      "|   |   |   |   |   |--- Age <= 19.50\n",
      "|   |   |   |   |   |   |--- DesireToTakeInitiative <= 2.50\n",
      "|   |   |   |   |   |   |   |--- class: 0\n",
      "|   |   |   |   |   |   |--- DesireToTakeInitiative >  2.50\n",
      "|   |   |   |   |   |   |   |--- GoodPhysicalHealth <= 2.50\n",
      "|   |   |   |   |   |   |   |   |--- class: 1\n",
      "|   |   |   |   |   |   |   |--- GoodPhysicalHealth >  2.50\n",
      "|   |   |   |   |   |   |   |   |--- Perseverance <= 2.50\n",
      "|   |   |   |   |   |   |   |   |   |--- StrongNeedToAchieve <= 2.50\n",
      "|   |   |   |   |   |   |   |   |   |   |--- class: 0\n",
      "|   |   |   |   |   |   |   |   |   |--- StrongNeedToAchieve >  2.50\n",
      "|   |   |   |   |   |   |   |   |   |   |--- class: 1\n",
      "|   |   |   |   |   |   |   |   |--- Perseverance >  2.50\n",
      "|   |   |   |   |   |   |   |   |   |--- class: 0\n",
      "|   |   |   |   |   |--- Age >  19.50\n",
      "|   |   |   |   |   |   |--- class: 0\n",
      "|   |   |   |--- SelfReliance >  2.50\n",
      "|   |   |   |   |--- Competitiveness <= 2.50\n",
      "|   |   |   |   |   |--- SelfConfidence <= 2.50\n",
      "|   |   |   |   |   |   |--- Perseverance <= 1.50\n",
      "|   |   |   |   |   |   |   |--- class: 0\n",
      "|   |   |   |   |   |   |--- Perseverance >  1.50\n",
      "|   |   |   |   |   |   |   |--- DesireToTakeInitiative <= 2.00\n",
      "|   |   |   |   |   |   |   |   |--- class: 0\n",
      "|   |   |   |   |   |   |   |--- DesireToTakeInitiative >  2.00\n",
      "|   |   |   |   |   |   |   |   |--- class: 1\n",
      "|   |   |   |   |   |--- SelfConfidence >  2.50\n",
      "|   |   |   |   |   |   |--- class: 1\n",
      "|   |   |   |   |--- Competitiveness >  2.50\n",
      "|   |   |   |   |   |--- Perseverance <= 4.50\n",
      "|   |   |   |   |   |   |--- StrongNeedToAchieve <= 3.50\n",
      "|   |   |   |   |   |   |   |--- GoodPhysicalHealth <= 3.50\n",
      "|   |   |   |   |   |   |   |   |--- Age <= 19.50\n",
      "|   |   |   |   |   |   |   |   |   |--- StrongNeedToAchieve <= 2.50\n",
      "|   |   |   |   |   |   |   |   |   |   |--- class: 0\n",
      "|   |   |   |   |   |   |   |   |   |--- StrongNeedToAchieve >  2.50\n",
      "|   |   |   |   |   |   |   |   |   |   |--- Competitiveness <= 3.50\n",
      "|   |   |   |   |   |   |   |   |   |   |   |--- truncated branch of depth 2\n",
      "|   |   |   |   |   |   |   |   |   |   |--- Competitiveness >  3.50\n",
      "|   |   |   |   |   |   |   |   |   |   |   |--- class: 0\n",
      "|   |   |   |   |   |   |   |   |--- Age >  19.50\n",
      "|   |   |   |   |   |   |   |   |   |--- SelfReliance <= 3.50\n",
      "|   |   |   |   |   |   |   |   |   |   |--- DesireToTakeInitiative <= 2.50\n",
      "|   |   |   |   |   |   |   |   |   |   |   |--- truncated branch of depth 2\n",
      "|   |   |   |   |   |   |   |   |   |   |--- DesireToTakeInitiative >  2.50\n",
      "|   |   |   |   |   |   |   |   |   |   |   |--- class: 1\n",
      "|   |   |   |   |   |   |   |   |   |--- SelfReliance >  3.50\n",
      "|   |   |   |   |   |   |   |   |   |   |--- class: 0\n",
      "|   |   |   |   |   |   |   |--- GoodPhysicalHealth >  3.50\n",
      "|   |   |   |   |   |   |   |   |--- class: 0\n",
      "|   |   |   |   |   |   |--- StrongNeedToAchieve >  3.50\n",
      "|   |   |   |   |   |   |   |--- Perseverance <= 2.50\n",
      "|   |   |   |   |   |   |   |   |--- class: 1\n",
      "|   |   |   |   |   |   |   |--- Perseverance >  2.50\n",
      "|   |   |   |   |   |   |   |   |--- SelfReliance <= 3.50\n",
      "|   |   |   |   |   |   |   |   |   |--- SelfConfidence <= 2.50\n",
      "|   |   |   |   |   |   |   |   |   |   |--- GoodPhysicalHealth <= 3.50\n",
      "|   |   |   |   |   |   |   |   |   |   |   |--- class: 1\n",
      "|   |   |   |   |   |   |   |   |   |   |--- GoodPhysicalHealth >  3.50\n",
      "|   |   |   |   |   |   |   |   |   |   |   |--- class: 0\n",
      "|   |   |   |   |   |   |   |   |   |--- SelfConfidence >  2.50\n",
      "|   |   |   |   |   |   |   |   |   |   |--- class: 0\n",
      "|   |   |   |   |   |   |   |   |--- SelfReliance >  3.50\n",
      "|   |   |   |   |   |   |   |   |   |--- SelfConfidence <= 3.50\n",
      "|   |   |   |   |   |   |   |   |   |   |--- DesireToTakeInitiative <= 3.50\n",
      "|   |   |   |   |   |   |   |   |   |   |   |--- class: 1\n",
      "|   |   |   |   |   |   |   |   |   |   |--- DesireToTakeInitiative >  3.50\n",
      "|   |   |   |   |   |   |   |   |   |   |   |--- truncated branch of depth 5\n",
      "|   |   |   |   |   |   |   |   |   |--- SelfConfidence >  3.50\n",
      "|   |   |   |   |   |   |   |   |   |   |--- Perseverance <= 3.50\n",
      "|   |   |   |   |   |   |   |   |   |   |   |--- truncated branch of depth 3\n",
      "|   |   |   |   |   |   |   |   |   |   |--- Perseverance >  3.50\n",
      "|   |   |   |   |   |   |   |   |   |   |   |--- truncated branch of depth 9\n",
      "|   |   |   |   |   |--- Perseverance >  4.50\n",
      "|   |   |   |   |   |   |--- SelfConfidence <= 4.50\n",
      "|   |   |   |   |   |   |   |--- StrongNeedToAchieve <= 4.50\n",
      "|   |   |   |   |   |   |   |   |--- class: 0\n",
      "|   |   |   |   |   |   |   |--- StrongNeedToAchieve >  4.50\n",
      "|   |   |   |   |   |   |   |   |--- class: 1\n",
      "|   |   |   |   |   |   |--- SelfConfidence >  4.50\n",
      "|   |   |   |   |   |   |   |--- class: 0\n",
      "|   |   |--- Age >  21.50\n",
      "|   |   |   |--- class: 0\n",
      "|   |--- Age >  22.50\n",
      "|   |   |--- class: 1\n",
      "|--- GoodPhysicalHealth >  4.50\n",
      "|   |--- SelfConfidence <= 3.50\n",
      "|   |   |--- class: 0\n",
      "|   |--- SelfConfidence >  3.50\n",
      "|   |   |--- DesireToTakeInitiative <= 4.50\n",
      "|   |   |   |--- SelfReliance <= 2.00\n",
      "|   |   |   |   |--- class: 0\n",
      "|   |   |   |--- SelfReliance >  2.00\n",
      "|   |   |   |   |--- Perseverance <= 4.50\n",
      "|   |   |   |   |   |--- class: 1\n",
      "|   |   |   |   |--- Perseverance >  4.50\n",
      "|   |   |   |   |   |--- SelfReliance <= 4.50\n",
      "|   |   |   |   |   |   |--- class: 1\n",
      "|   |   |   |   |   |--- SelfReliance >  4.50\n",
      "|   |   |   |   |   |   |--- class: 0\n",
      "|   |   |--- DesireToTakeInitiative >  4.50\n",
      "|   |   |   |--- Perseverance <= 3.50\n",
      "|   |   |   |   |--- class: 0\n",
      "|   |   |   |--- Perseverance >  3.50\n",
      "|   |   |   |   |--- Age <= 19.50\n",
      "|   |   |   |   |   |--- SelfConfidence <= 4.50\n",
      "|   |   |   |   |   |   |--- SelfReliance <= 4.50\n",
      "|   |   |   |   |   |   |   |--- class: 1\n",
      "|   |   |   |   |   |   |--- SelfReliance >  4.50\n",
      "|   |   |   |   |   |   |   |--- class: 0\n",
      "|   |   |   |   |   |--- SelfConfidence >  4.50\n",
      "|   |   |   |   |   |   |--- class: 1\n",
      "|   |   |   |   |--- Age >  19.50\n",
      "|   |   |   |   |   |--- SelfConfidence <= 4.50\n",
      "|   |   |   |   |   |   |--- class: 1\n",
      "|   |   |   |   |   |--- SelfConfidence >  4.50\n",
      "|   |   |   |   |   |   |--- Age <= 20.50\n",
      "|   |   |   |   |   |   |   |--- class: 0\n",
      "|   |   |   |   |   |   |--- Age >  20.50\n",
      "|   |   |   |   |   |   |   |--- class: 1\n",
      "\n"
     ]
    }
   ],
   "source": [
    "print(export_text(cut_clf, feature_names=list(X_train)))"
   ]
  },
  {
   "cell_type": "code",
   "execution_count": 51,
   "id": "03f88243",
   "metadata": {},
   "outputs": [
    {
     "data": {
      "image/png": "[encoded data removed]",
      "text/plain": [
       "<Figure size 1080x720 with 1 Axes>"
      ]
     },
     "metadata": {
      "needs_background": "light"
     },
     "output_type": "display_data"
    }
   ],
   "source": [
    "fig = plt.figure(figsize=(15,10))\n",
    "_ = tree.plot_tree(cut_clf, feature_names=list(X_train), filled=True)"
   ]
  },
  {
   "cell_type": "code",
   "execution_count": 52,
   "id": "974f45d6",
   "metadata": {},
   "outputs": [
    {
     "data": {
      "text/plain": [
       "'forest2.jpg'"
      ]
     },
     "execution_count": 52,
     "metadata": {},
     "output_type": "execute_result"
    }
   ],
   "source": [
    "dot_data = tree.export_graphviz(cut_clf, out_file=None, \n",
    "                                feature_names=list(X_train),  \n",
    "                                #class_names=target,\n",
    "                                filled=True)\n",
    "\n",
    "# Draw graph\n",
    "graph = graphviz.Source(dot_data, format=\"jpg\") \n",
    "graph\n",
    "graph.render(\"forest2\")"
   ]
  },
  {
   "cell_type": "code",
   "execution_count": 53,
   "id": "35e7d19f",
   "metadata": {},
   "outputs": [
    {
     "name": "stdout",
     "output_type": "stream",
     "text": [
      "{'ccp_alphas': array([0.        , 0.00056306, 0.00075075, 0.0018018 , 0.00225225,\n",
      "       0.00337838, 0.0036036 , 0.00405405, 0.00405405, 0.0045045 ,\n",
      "       0.0045045 , 0.00505051, 0.00525526, 0.00525526, 0.00579151,\n",
      "       0.00584221, 0.00589681, 0.00608108, 0.00634384, 0.00670313,\n",
      "       0.00723938, 0.00726351, 0.00761261, 0.00779607, 0.00859406,\n",
      "       0.00896665, 0.01081081, 0.01082721, 0.01203391, 0.01238739,\n",
      "       0.01600817, 0.01908148]), 'impurities': array([0.03716216, 0.03828829, 0.03903904, 0.04444444, 0.0466967 ,\n",
      "       0.05007508, 0.05728228, 0.06133634, 0.0734985 , 0.08250751,\n",
      "       0.09151652, 0.10161753, 0.12263855, 0.14365957, 0.15524258,\n",
      "       0.1727692 , 0.178666  , 0.18474708, 0.19109093, 0.20449719,\n",
      "       0.21173657, 0.2262636 , 0.24910144, 0.3036739 , 0.36383234,\n",
      "       0.38176563, 0.39257644, 0.42505808, 0.43709199, 0.44947938,\n",
      "       0.46548755, 0.48456903])}\n"
     ]
    }
   ],
   "source": [
    "path = clf.cost_complexity_pruning_path(X_train, y_train)\n",
    "ccp_alphas, impurities = path.ccp_alphas, path.impurities\n",
    "print(path)\n",
    "#print(ccp_alphas)\n",
    "#print(impurities)"
   ]
  },
  {
   "cell_type": "code",
   "execution_count": 54,
   "id": "2c178afb",
   "metadata": {},
   "outputs": [
    {
     "data": {
      "text/plain": [
       "<function dict.keys>"
      ]
     },
     "execution_count": 54,
     "metadata": {},
     "output_type": "execute_result"
    }
   ],
   "source": [
    "from sklearn.model_selection import GridSearchCV\n",
    "from sklearn.tree import DecisionTreeClassifier\n",
    "\n",
    "param_dict= {'ccp_alpha':ccp_alphas, 'criterion':['gini', 'entropy']}\n",
    "grid=GridSearchCV(DecisionTreeClassifier(), param_grid=param_dict, cv=2)\n",
    "grid.fit(X_train, y_train)\n",
    "grid.estimator.get_params().keys\n",
    "#grid.get_params().keys()"
   ]
  },
  {
   "cell_type": "code",
   "execution_count": 55,
   "id": "857fa807",
   "metadata": {},
   "outputs": [
    {
     "data": {
      "text/plain": [
       "0.5337837837837838"
      ]
     },
     "execution_count": 55,
     "metadata": {},
     "output_type": "execute_result"
    }
   ],
   "source": [
    "grid.best_score_"
   ]
  },
  {
   "cell_type": "code",
   "execution_count": 56,
   "id": "ec867382",
   "metadata": {},
   "outputs": [
    {
     "data": {
      "text/plain": [
       "{'ccp_alpha': 0.004054054054054055, 'criterion': 'entropy'}"
      ]
     },
     "execution_count": 56,
     "metadata": {},
     "output_type": "execute_result"
    }
   ],
   "source": [
    "grid.best_params_"
   ]
  },
  {
   "cell_type": "code",
   "execution_count": 57,
   "id": "0edc8e45",
   "metadata": {},
   "outputs": [
    {
     "data": {
      "text/plain": [
       "DecisionTreeClassifier(ccp_alpha=0.004054054054054055)"
      ]
     },
     "execution_count": 57,
     "metadata": {},
     "output_type": "execute_result"
    }
   ],
   "source": [
    "final_model=DecisionTreeClassifier(ccp_alpha=0.004054054054054055)\n",
    "final_model.fit(X_train, y_train)"
   ]
  },
  {
   "cell_type": "code",
   "execution_count": 58,
   "id": "9f5ba755",
   "metadata": {},
   "outputs": [
    {
     "data": {
      "text/plain": [
       "0.5151515151515151"
      ]
     },
     "execution_count": 58,
     "metadata": {},
     "output_type": "execute_result"
    }
   ],
   "source": [
    "final_model.score(X_test, y_test)"
   ]
  },
  {
   "cell_type": "code",
   "execution_count": 59,
   "id": "66aaf277",
   "metadata": {},
   "outputs": [
    {
     "data": {
      "text/plain": [
       "107"
      ]
     },
     "execution_count": 59,
     "metadata": {},
     "output_type": "execute_result"
    }
   ],
   "source": [
    "final_model.tree_.node_count"
   ]
  },
  {
   "cell_type": "code",
   "execution_count": 60,
   "id": "f5727859",
   "metadata": {},
   "outputs": [
    {
     "data": {
      "image/png": "[encoded data removed]",
      "text/plain": [
       "<Figure size 360x720 with 1 Axes>"
      ]
     },
     "metadata": {
      "needs_background": "light"
     },
     "output_type": "display_data"
    }
   ],
   "source": [
    "fig = plt.figure(figsize=(5,10))\n",
    "_ = tree.plot_tree(final_model, \n",
    "                   feature_names=list(X_train),  \n",
    "                   # class_names=target,\n",
    "                   filled=True)\n",
    "plt.show()"
   ]
  },
  {
   "cell_type": "code",
   "execution_count": 61,
   "id": "22a2e0e7",
   "metadata": {},
   "outputs": [
    {
     "data": {
      "text/plain": [
       "'forest3.jpg'"
      ]
     },
     "execution_count": 61,
     "metadata": {},
     "output_type": "execute_result"
    }
   ],
   "source": [
    "dot_data = tree.export_graphviz(final_model, out_file=None, \n",
    "                                feature_names=list(X_train),  \n",
    "                                # class_names=target,\n",
    "                                filled=True)\n",
    "\n",
    "# Draw graph\n",
    "graph = graphviz.Source(dot_data, format=\"jpg\") \n",
    "graph\n",
    "graph.render(\"forest3\")"
   ]
  },
  {
   "cell_type": "code",
   "execution_count": null,
   "id": "2712e398",
   "metadata": {},
   "outputs": [],
   "source": []
  }
 ],
 "metadata": {
  "kernelspec": {
   "display_name": "Python 3 (ipykernel)",
   "language": "python",
   "name": "python3"
  },
  "language_info": {
   "codemirror_mode": {
    "name": "ipython",
    "version": 3
   },
   "file_extension": ".py",
   "mimetype": "text/x-python",
   "name": "python",
   "nbconvert_exporter": "python",
   "pygments_lexer": "ipython3",
   "version": "3.8.10"
  }
 },
 "nbformat": 4,
 "nbformat_minor": 5
}
